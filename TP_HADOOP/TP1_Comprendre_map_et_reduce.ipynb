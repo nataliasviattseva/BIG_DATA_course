{
 "cells": [
  {
   "cell_type": "code",
   "execution_count": 1,
   "metadata": {
    "id": "7zPHlLqDW6qr"
   },
   "outputs": [],
   "source": [
    "import numpy as np"
   ]
  },
  {
   "cell_type": "markdown",
   "metadata": {
    "id": "eONdy9-YW6qy"
   },
   "source": [
    "# Map et reduce\n",
    "\n",
    "Les Framework genre Spark sont basés sur les concepts de Map et Reduce. Il s'agit simplement de fonction de traitement de donnée. \n",
    "\n",
    "## map\n",
    "\n",
    "Map prend en argument une fonction et une collection et retourne une collection. La fonction étant apliqué sur chaque élément de la la collection. Executer le code ci-dessous et expliquer ce qu'il fait. Vous rappelez vous de ce qu'est une fonction anonyme ? "
   ]
  },
  {
   "cell_type": "code",
   "execution_count": 2,
   "metadata": {
    "colab": {
     "base_uri": "https://localhost:8080/"
    },
    "executionInfo": {
     "elapsed": 305,
     "status": "ok",
     "timestamp": 1656245260032,
     "user": {
      "displayName": "AURA CAPS",
      "userId": "13431634094790833605"
     },
     "user_tz": -120
    },
    "id": "r4VQ31QaW6qy",
    "outputId": "f9edbd53-7b0b-45a9-d4c7-4d8f02d0a8b6"
   },
   "outputs": [
    {
     "name": "stdout",
     "output_type": "stream",
     "text": [
      "2\n",
      "4\n",
      "8\n",
      "10\n",
      "12\n"
     ]
    }
   ],
   "source": [
    "a = [1, 2, 4, 5, 6]\n",
    "b = map(lambda x: 2 * x, a)\n",
    "\n",
    "for i in b:\n",
    "    print(i)"
   ]
  },
  {
   "cell_type": "markdown",
   "metadata": {
    "id": "ivm_eYxDW6qz"
   },
   "source": [
    "Créer une liste nombre entiers aléatoire contenant 1000 exemples. A l'aide de la fonction map retourner une collection qui contient True si le nombre était pair et False sinon "
   ]
  },
  {
   "cell_type": "code",
   "execution_count": 4,
   "metadata": {
    "id": "GqwRoSebW6qz"
   },
   "outputs": [
    {
     "name": "stdout",
     "output_type": "stream",
     "text": [
      "[76, 497, 486, 927, 844, 879, 158, 810, 275, 17, 362, 822, 364, 531, 912, 645, 956, 272, 61, 814, 783, 589, 425, 511, 716, 557, 278, 922, 3, 542, 627, 374, 799, 245, 620, 822, 135, 563, 252, 364, 15, 152, 302, 375, 124, 59, 159, 610, 573, 304, 1, 426, 454, 708, 369, 767, 537, 319, 323, 938, 764, 932, 289, 705, 230, 199, 944, 684, 434, 67, 442, 795, 610, 931, 498, 629, 43, 924, 538, 623, 895, 23, 564, 533, 614, 855, 245, 554, 296, 286, 401, 512, 770, 905, 50, 704, 85, 951, 473, 786, 977, 117, 437, 413, 304, 286, 973, 703, 625, 245, 673, 929, 350, 526, 367, 659, 120, 609, 133, 179, 821, 594, 345, 143, 119, 654, 896, 860, 99, 416, 76, 884, 434, 493, 122, 791, 351, 585, 358, 319, 495, 774, 565, 768, 894, 20, 762, 242, 890, 911, 254, 691, 936, 491, 298, 646, 483, 61, 42, 367, 507, 534, 312, 599, 519, 252, 665, 117, 765, 406, 600, 738, 751, 40, 951, 913, 869, 273, 499, 390, 457, 284, 420, 528, 70, 115, 460, 289, 51, 283, 967, 400, 11, 315, 521, 313, 295, 816, 671, 152, 948, 682, 925, 167, 276, 48, 685, 169, 150, 357, 549, 964, 867, 242, 717, 418, 185, 188, 520, 162, 111, 28, 933, 404, 976, 500, 420, 306, 337, 65, 834, 535, 72, 943, 374, 85, 90, 107, 242, 188, 523, 885, 416, 213, 933, 927, 131, 984, 328, 626, 963, 835, 704, 114, 834, 600, 224, 824, 536, 653, 942, 5, 311, 85, 336, 949, 490, 552, 163, 456, 349, 709, 306, 475, 307, 524, 264, 998, 199, 603, 562, 117, 966, 564, 309, 450, 250, 435, 69, 49, 227, 167, 224, 962, 888, 792, 31, 39, 435, 761, 183, 513, 872, 886, 825, 963, 27, 722, 95, 500, 148, 778, 893, 421, 966, 24, 535, 293, 806, 933, 669, 622, 766, 706, 39, 534, 440, 132, 226, 946, 625, 955, 898, 617, 668, 598, 87, 680, 119, 679, 763, 827, 832, 110, 777, 368, 854, 655, 240, 473, 634, 317, 571, 15, 648, 264, 900, 535, 544, 549, 966, 186, 248, 201, 51, 964, 964, 20, 497, 366, 446, 846, 33, 602, 677, 754, 519, 813, 856, 107, 66, 893, 26, 291, 89, 409, 50, 87, 556, 561, 509, 118, 402, 511, 412, 291, 658, 567, 682, 265, 472, 454, 902, 946, 822, 352, 469, 526, 691, 860, 404, 528, 339, 633, 902, 903, 184, 939, 187, 774, 723, 209, 722, 436, 405, 891, 460, 589, 91, 705, 20, 540, 870, 377, 76, 83, 477, 649, 924, 670, 383, 674, 968, 682, 898, 517, 462, 689, 789, 947, 466, 730, 770, 386, 893, 257, 159, 362, 322, 397, 852, 287, 588, 369, 299, 87, 988, 921, 974, 882, 649, 863, 549, 957, 958, 204, 394, 558, 332, 384, 583, 791, 984, 817, 789, 472, 128, 955, 615, 342, 55, 909, 729, 774, 849, 464, 796, 183, 349, 744, 634, 509, 935, 349, 926, 341, 834, 130, 414, 314, 63, 268, 503, 942, 117, 342, 249, 260, 244, 900, 610, 723, 244, 523, 438, 783, 825, 266, 238, 30, 921, 341, 230, 181, 518, 628, 304, 181, 125, 134, 617, 373, 269, 994, 431, 735, 407, 826, 798, 54, 33, 30, 32, 948, 976, 623, 105, 996, 589, 973, 992, 79, 839, 929, 61, 769, 670, 605, 530, 424, 795, 290, 152, 266, 81, 186, 572, 528, 686, 702, 31, 442, 834, 939, 71, 67, 316, 665, 635, 49, 268, 558, 363, 434, 83, 771, 322, 965, 72, 567, 599, 707, 636, 947, 600, 324, 12, 959, 534, 90, 792, 972, 797, 956, 372, 29, 905, 231, 457, 533, 728, 879, 873, 806, 954, 652, 892, 102, 188, 54, 621, 566, 326, 762, 118, 97, 60, 460, 114, 487, 486, 46, 815, 457, 411, 997, 59, 184, 526, 271, 62, 281, 290, 958, 918, 277, 302, 76, 316, 635, 446, 673, 269, 461, 522, 986, 64, 464, 136, 592, 252, 286, 87, 217, 183, 598, 5, 508, 31, 65, 570, 300, 84, 390, 275, 743, 824, 275, 40, 764, 822, 301, 840, 880, 234, 812, 874, 895, 645, 97, 553, 131, 985, 714, 110, 768, 860, 530, 130, 543, 444, 239, 968, 150, 153, 838, 289, 432, 466, 153, 456, 592, 181, 147, 884, 29, 346, 615, 355, 531, 176, 360, 647, 429, 237, 129, 815, 287, 954, 981, 207, 678, 171, 887, 760, 729, 220, 963, 245, 971, 773, 183, 612, 945, 819, 481, 82, 982, 844, 127, 131, 361, 245, 419, 958, 33, 89, 569, 184, 141, 91, 748, 771, 673, 793, 953, 743, 916, 277, 582, 56, 810, 994, 72, 392, 440, 75, 928, 740, 666, 753, 540, 831, 204, 707, 981, 886, 3, 939, 523, 597, 671, 901, 173, 979, 488, 876, 927, 75, 343, 545, 182, 180, 529, 799, 232, 543, 642, 914, 124, 547, 14, 156, 76, 490, 939, 824, 619, 302, 137, 614, 655, 903, 756, 354, 101, 76, 266, 283, 680, 381, 854, 368, 451, 48, 364, 833, 151, 430, 243, 288, 669, 278, 509, 509, 331, 351, 418, 308, 821, 453, 579, 328, 573, 874, 891, 766, 426, 763, 377, 524, 561, 897, 439, 676, 337, 1000, 812, 473, 510, 602, 476, 413, 836, 420, 531, 276, 739, 946, 359, 116, 444, 663, 426, 626, 607, 14, 297, 822, 433, 106, 1, 774, 465, 158, 47, 965, 140, 938, 785, 628, 800, 734, 817, 282, 688, 73, 411, 282, 937, 818, 577, 154, 802, 212, 173, 274, 806, 78, 789, 87, 345, 48, 912, 799, 949, 678, 710, 266, 357, 280, 158, 167, 821, 788, 735, 814, 627, 937, 733, 273, 423, 710, 570, 756, 699, 446, 697, 144, 778, 547, 421, 158, 915, 576, 722, 3, 690, 257, 814, 528, 673, 5, 67, 366, 653, 349, 53, 243, 279, 340, 500, 1, 955, 977, 643, 648, 943, 742, 856, 756, 124, 973, 502, 736, 575, 663, 247, 126, 577]\n",
      "True False True False True False True True False False True True True False True False True True False True False False False False True False True True False True False True False False True True False False True True False True True False True False False True False True False True True True False False False False False True True True False False True False True True True False True False True False True False False True True False False False True False True False False True True True False True True False True True False False False True False False False False True True False False False False False False True True False False True False False False False True False False False True True True False True True True True False True False False False True False False True False True True True True True True False True False True False True True False False True False False True True False False True False False False True True True False True False False False False False True False True True True True False True False False False False True False False False False False True False True True True False False True True False False True False False True False True False True False True True True False True False True True True True True False False True False True False True False True False True True False False True False False False False True True True False False True True True True True True True False True False False False True False True True False True False False True False False True True True False False True False True True False True True False False False False False True True True True False False False False False False True True False False False True False True True True False False True True False False True False False True True True False True True True True True False False True False True True False True False False False False True True False True True False True False True False False False True True True False True False True True True False False True True True False True True True False True False True False False True False True False True False False False True False True False False True True False True False True False True False True True True True True True False True False True True True False False True False True False False True False False True True False False True False False False True True True False True False False False True True False True True True True False True False False False True True True True False False False True True False True False True False False False True False True True False False False False True True True True True True False False True False False True True False False True False False False True False True True False False True True False False False True False True True True True False True False True False True False True True True True False True False True False False True True True False False True False True True True False False True False False False True False False False True True True False True True True True False False True False False True False False False False False True False True True False True True True False True True True True True False True True False False False True False False False True True False True False False True False True False False False True False True True True False True True True True False True True False False False False False True False False True True True True True True True False True True True True False True True True False True True False False False False False True True False True False True True True False True True True False True False False False True True True True True True True True False False False True False True False False True True True True False False True False True True True False True True True True True False False False False False False True True True True True True False True False True True False True False True True False True True False False True False True False False False True True False False False False False False True False False True False False True False True False False False False False True False False False True True True False False False False False True False False False True False False True False False False False False True False True True True True True True True False True True True False True False True False False True False False False False False False False False True True False False False False True True False False True False True True True False True True True True False True False True False True False False True True False True True False True False True True False True True False False True False True False True False False False False True True False False False True False True False True True False False True False False False True False True True False True True True False True True False True False True False True True False True True False True False True False True False True False True False False True True False True True True False True True False False True False True False True True True False True True True False False False True True False False True True True False True True False False True False True False False False False False True True True False True False True True False False True False True True False True False True True False False False True False False False False False True True False False False False True False True True True True False True True False False False True False "
     ]
    }
   ],
   "source": [
    "import random\n",
    "liste_entiers_aleatoire = [random.randint(1, 1000) for i in range(1, 1001)]\n",
    "print(liste_entiers_aleatoire)\n",
    "b = map(lambda x: not x % 2, liste_entiers_aleatoire)\n",
    "\n",
    "for i in b:\n",
    "    print(i, end=' ')"
   ]
  },
  {
   "cell_type": "markdown",
   "metadata": {
    "id": "bq_Sxc7GW6qz"
   },
   "source": [
    "La seule différence entre le map de python et le map de hadoop/spark c'est que le map de ce dernier découpe le calul sur plusieurs machine pour paralléliser le traitement"
   ]
  },
  {
   "cell_type": "markdown",
   "metadata": {
    "id": "9viNh0l5W6q0"
   },
   "source": [
    "## Reduce\n",
    "\n",
    "La fonction reduce prend entrée une collection et retourne une reduction de celle ci. Par exemple elle permet de faire la somme des éléments d'une liste. Executer le code suivant."
   ]
  },
  {
   "cell_type": "code",
   "execution_count": 5,
   "metadata": {
    "id": "3yUniUMjW6q0"
   },
   "outputs": [
    {
     "data": {
      "text/plain": [
       "11"
      ]
     },
     "execution_count": 5,
     "metadata": {},
     "output_type": "execute_result"
    }
   ],
   "source": [
    "from functools import reduce\n",
    "\n",
    "acc_init = 0\n",
    "a = [1, 2, 3, 5] \n",
    "\n",
    "out = reduce(lambda e, acc: e + acc, a, acc_init)\n",
    "out"
   ]
  },
  {
   "cell_type": "markdown",
   "metadata": {
    "id": "_4KZb8YeW6q0"
   },
   "source": [
    "De la même manière la seule différence entre le reduce de python et celui de hadoop/spark c'est que celui de spark découpe en plusieurs morceaux et parallélise le traitement. "
   ]
  },
  {
   "cell_type": "markdown",
   "metadata": {
    "id": "-qJ19BeqW6q0"
   },
   "source": [
    "On considère le big dataset suivant : "
   ]
  },
  {
   "cell_type": "code",
   "execution_count": null,
   "metadata": {
    "id": "fi2ISGnKW6q1"
   },
   "outputs": [],
   "source": [
    "a = [\"ceci n'est pas du big data\", 'bonjour voilà du texte', \"Maurice est en retard\", 'hehehehehehehe']"
   ]
  },
  {
   "cell_type": "markdown",
   "metadata": {
    "id": "4HEnInchW6q1"
   },
   "source": [
    "A l'aide de la fonction map splitter chaque phrase en en mots. on aura donc une liste de liste. "
   ]
  },
  {
   "cell_type": "code",
   "execution_count": 13,
   "metadata": {},
   "outputs": [
    {
     "name": "stdout",
     "output_type": "stream",
     "text": [
      "[['ceci', \"n'est\", 'pas', 'du', 'big', 'data'], ['bonjour', 'voilà', 'du', 'texte'], ['Maurice', 'est', 'en', 'retard'], ['hehehehehehehe']]\n"
     ]
    }
   ],
   "source": [
    "a = [\"ceci n'est pas du big data\", 'bonjour voilà du texte', \"Maurice est en retard\", 'hehehehehehehe']\n",
    "c = list(map(lambda x: x.split(), a))\n",
    "\n",
    "print(c)"
   ]
  },
  {
   "cell_type": "code",
   "execution_count": 7,
   "metadata": {
    "id": "v7gtnRBGW6q1"
   },
   "outputs": [
    {
     "data": {
      "text/plain": [
       "15"
      ]
     },
     "execution_count": 7,
     "metadata": {},
     "output_type": "execute_result"
    }
   ],
   "source": [
    "reduce(lambda x,y:x+y,[3,5,7],0)"
   ]
  },
  {
   "cell_type": "markdown",
   "metadata": {
    "id": "49ZT_YQMW6q1"
   },
   "source": [
    "A l'aide de map et reduce. Renvoyer le nombre total de mots dans a"
   ]
  },
  {
   "cell_type": "code",
   "execution_count": 14,
   "metadata": {
    "id": "yW_cXHPOW6q1"
   },
   "outputs": [
    {
     "name": "stdout",
     "output_type": "stream",
     "text": [
      "15\n"
     ]
    }
   ],
   "source": [
    "d = reduce(lambda x, y: x + len(y), c, 0)\n",
    "print(d)"
   ]
  },
  {
   "cell_type": "code",
   "execution_count": null,
   "metadata": {
    "id": "Q5xNMFM4W6q2"
   },
   "outputs": [],
   "source": []
  }
 ],
 "metadata": {
  "colab": {
   "collapsed_sections": [],
   "provenance": []
  },
  "kernelspec": {
   "display_name": "Python 3 (ipykernel)",
   "language": "python",
   "name": "python3"
  },
  "language_info": {
   "codemirror_mode": {
    "name": "ipython",
    "version": 3
   },
   "file_extension": ".py",
   "mimetype": "text/x-python",
   "name": "python",
   "nbconvert_exporter": "python",
   "pygments_lexer": "ipython3",
   "version": "3.9.7"
  }
 },
 "nbformat": 4,
 "nbformat_minor": 1
}
